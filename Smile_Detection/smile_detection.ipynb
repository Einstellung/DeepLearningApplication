{
 "cells": [
  {
   "cell_type": "code",
   "execution_count": 1,
   "metadata": {},
   "outputs": [
    {
     "name": "stderr",
     "output_type": "stream",
     "text": [
      "Using TensorFlow backend.\n"
     ]
    }
   ],
   "source": [
    "from sklearn.preprocessing import LabelEncoder\n",
    "from sklearn.model_selection import train_test_split\n",
    "from sklearn.metrics import classification_report\n",
    "from keras.preprocessing.image import img_to_array\n",
    "from keras.utils import np_utils\n",
    "from imutils import paths\n",
    "import matplotlib.pyplot as plt\n",
    "import numpy as np\n",
    "import imutils\n",
    "import cv2\n",
    "import os\n",
    "\n",
    "from keras.models import Sequential\n",
    "from keras.layers.convolutional import Conv2D\n",
    "from keras.layers.convolutional import MaxPooling2D\n",
    "from keras.layers.core import Activation\n",
    "from keras.layers.core import Flatten\n",
    "from keras.layers.core import Dense"
   ]
  },
  {
   "cell_type": "code",
   "execution_count": 2,
   "metadata": {},
   "outputs": [],
   "source": [
    "dataset_dir = os.path.abspath(r\"./SMILEs/\") #smile数据集路径\n",
    "model_dir = os.path.abspath(r\"./model/lenet.hdf5\")    #训练模型保存路径\n",
    "\n",
    "data = []\n",
    "labels = []"
   ]
  },
  {
   "cell_type": "code",
   "execution_count": 3,
   "metadata": {},
   "outputs": [],
   "source": [
    "for imagePath in sorted(list(paths.list_images(dataset_dir))):\n",
    "    image = cv2.imread(imagePath)\n",
    "    image = cv2.cvtColor(image, cv2.COLOR_BGR2GRAY)   # 转换成灰度图像\n",
    "    image = imutils.resize(image, width = 28)  #将图像尺寸改成28*28\n",
    "    image = img_to_array(image)   #使用Keras的img_to_array转换成浮点型和（28*28*1），便于接下来神经网络学习\n",
    "    data.append(image)\n",
    "    \n",
    "    label = imagePath.split(os.path.sep)[-3]\n",
    "    label = \"smiling\" if label == \"positives\" else \"not_smiling\"  #如果label字符串里面有positive就重命名为smiling\n",
    "    labels.append(label)"
   ]
  },
  {
   "cell_type": "code",
   "execution_count": 4,
   "metadata": {},
   "outputs": [],
   "source": [
    "# 将data和labels都转换为numpy类型\n",
    "data = np.array(data, dtype= \"float\") / 255.0 #将像素转换到[0, 1]范围之内\n",
    "labels = np.array(labels)\n",
    "\n",
    "# 对label进行one-hot编码\n",
    "le = LabelEncoder().fit(labels)   # LabelEncoder可以将标签分配一个0—n_classes-1之间的编码 \n",
    "\n",
    "# transform用来标准化，将labels中'not_smiling'和‘smiling’的数据转换成0和1的形式\n",
    "labels = np_utils.to_categorical(le.transform(labels), 2)  # 2是num_class表示输出的是2列数据的意思"
   ]
  },
  {
   "cell_type": "markdown",
   "metadata": {},
   "source": [
    "下面需要解决一下样本不平衡问题。\n",
    "\n",
    "数据集里面有9475个笑脸样本，和3690个非笑脸样本。下面的代码中classTotals就是按列加和labels的one-hot编码，所以结果是[9475, 3690]\n",
    "我们要解决数据不平衡问题可以使用classWeight权重，相比于笑脸，我们给非笑脸以2.56倍的权重。损失函数权重计算的时候对非笑脸进行相应扩大，以此来解决数据不平衡问题。"
   ]
  },
  {
   "cell_type": "code",
   "execution_count": 11,
   "metadata": {},
   "outputs": [],
   "source": [
    "classTotals = labels.sum(axis=0)\n",
    "classWeight = classTotals.max() / classTotals"
   ]
  },
  {
   "cell_type": "markdown",
   "metadata": {},
   "source": [
    "stratify是为了保持split前类的分布。比如有100个数据，80个属于A类，20个属于B类。如果train_test_split(... test_size=0.25, stratify = y_all), 那么split之后数据如下：\n",
    "\n",
    "training: 75个数据，其中60个属于A类，15个属于B类。\n",
    "\n",
    "testing: 25个数据，其中20个属于A类，5个属于B类。 \n",
    "\n",
    "用了stratify参数，training集和testing集的类的比例是 A：B= 4：1，等同于split前的比例（80：20）。通常在这种类分布不平衡的情况下会用到stratify"
   ]
  },
  {
   "cell_type": "code",
   "execution_count": 12,
   "metadata": {},
   "outputs": [],
   "source": [
    "(trainX, testX, trainY, testY) = train_test_split(data, labels, test_size = 0.20, \n",
    "                                                 stratify = labels, random_state = 42)"
   ]
  },
  {
   "cell_type": "markdown",
   "metadata": {},
   "source": [
    "下面是模型部分,LeNet实现"
   ]
  },
  {
   "cell_type": "code",
   "execution_count": 13,
   "metadata": {},
   "outputs": [],
   "source": [
    "model = Sequential()\n",
    "\n",
    "# first set of CONV => RELU => POOL layers\n",
    "model.add(Conv2D(input_shape=(28, 28, 1), kernel_size=(5, 5), filters=20, activation='relu'))\n",
    "model.add(MaxPooling2D(pool_size=(2,2), strides=2, padding='same'))\n",
    "\n",
    "# second set of CONV => RELU => POOL layers\n",
    "model.add(Conv2D(kernel_size=(5, 5), filters=50,  activation='relu', padding='same'))\n",
    "model.add(MaxPooling2D(pool_size=(2,2), strides=2, padding='same'))\n",
    "\n",
    "# first (and only) set of FC => RELU layers\n",
    "model.add(Flatten())\n",
    "model.add(Dense(500, activation='relu'))\n",
    "\n",
    "model.add(Dense(2, activation='softmax'))"
   ]
  },
  {
   "cell_type": "code",
   "execution_count": 14,
   "metadata": {},
   "outputs": [
    {
     "name": "stdout",
     "output_type": "stream",
     "text": [
      "Train on 10532 samples, validate on 2633 samples\n",
      "Epoch 1/15\n",
      "10532/10532 [==============================] - 5s 466us/step - loss: 0.3734 - acc: 0.8338 - val_loss: 0.2813 - val_acc: 0.8842\n",
      "Epoch 2/15\n",
      "10532/10532 [==============================] - 1s 85us/step - loss: 0.2662 - acc: 0.8937 - val_loss: 0.2624 - val_acc: 0.8959\n",
      "Epoch 3/15\n",
      "10532/10532 [==============================] - 1s 89us/step - loss: 0.2411 - acc: 0.9060 - val_loss: 0.2617 - val_acc: 0.8997\n",
      "Epoch 4/15\n",
      "10532/10532 [==============================] - 1s 88us/step - loss: 0.2248 - acc: 0.9152 - val_loss: 0.2522 - val_acc: 0.9020\n",
      "Epoch 5/15\n",
      "10532/10532 [==============================] - 1s 94us/step - loss: 0.2106 - acc: 0.9196 - val_loss: 0.2741 - val_acc: 0.8899\n",
      "Epoch 6/15\n",
      "10532/10532 [==============================] - 1s 97us/step - loss: 0.2008 - acc: 0.9239 - val_loss: 0.2388 - val_acc: 0.9051\n",
      "Epoch 7/15\n",
      "10532/10532 [==============================] - 1s 93us/step - loss: 0.1854 - acc: 0.9282 - val_loss: 0.2368 - val_acc: 0.9051\n",
      "Epoch 8/15\n",
      "10532/10532 [==============================] - 1s 91us/step - loss: 0.1775 - acc: 0.9341 - val_loss: 0.2568 - val_acc: 0.8982\n",
      "Epoch 9/15\n",
      "10532/10532 [==============================] - 1s 84us/step - loss: 0.1660 - acc: 0.9359 - val_loss: 0.2386 - val_acc: 0.9115\n",
      "Epoch 10/15\n",
      "10532/10532 [==============================] - 1s 91us/step - loss: 0.1540 - acc: 0.9438 - val_loss: 0.2253 - val_acc: 0.9104\n",
      "Epoch 11/15\n",
      "10532/10532 [==============================] - 1s 95us/step - loss: 0.1463 - acc: 0.9446 - val_loss: 0.2359 - val_acc: 0.9073\n",
      "Epoch 12/15\n",
      "10532/10532 [==============================] - 1s 96us/step - loss: 0.1352 - acc: 0.9487 - val_loss: 0.2472 - val_acc: 0.9111\n",
      "Epoch 13/15\n",
      "10532/10532 [==============================] - 1s 92us/step - loss: 0.1231 - acc: 0.9533 - val_loss: 0.2509 - val_acc: 0.9085\n",
      "Epoch 14/15\n",
      "10532/10532 [==============================] - 1s 92us/step - loss: 0.1073 - acc: 0.9600 - val_loss: 0.2589 - val_acc: 0.9047\n",
      "Epoch 15/15\n",
      "10532/10532 [==============================] - 1s 89us/step - loss: 0.0987 - acc: 0.9627 - val_loss: 0.2783 - val_acc: 0.9001\n"
     ]
    }
   ],
   "source": [
    "model.compile(loss = \"binary_crossentropy\", optimizer = \"adam\", metrics = [\"accuracy\"])\n",
    "\n",
    "H = model.fit(trainX, trainY, validation_data = (testX, testY),\n",
    "             class_weight = classWeight, batch_size = 64, epochs = 15, verbose = 1)  #verbose = 1显示进度条"
   ]
  },
  {
   "cell_type": "markdown",
   "metadata": {},
   "source": [
    "keras没有直接可以统计recall和f1值的办法。可以用sklearn。\n",
    "但是sklearn没有办法直接处理Keras的数据，所以要经过一些处理。Keras计算需要二维数组，但classification_report可以处理的是一维数列，所以这里使用argmax按行返回二维数组最大索引，这样也算是一种0-1标签的划分了。"
   ]
  },
  {
   "cell_type": "code",
   "execution_count": 17,
   "metadata": {},
   "outputs": [
    {
     "name": "stdout",
     "output_type": "stream",
     "text": [
      "             precision    recall  f1-score   support\n",
      "\n",
      "not_smiling       0.95      0.91      0.93      1895\n",
      "    smiling       0.79      0.87      0.83       738\n",
      "\n",
      "avg / total       0.90      0.90      0.90      2633\n",
      "\n"
     ]
    }
   ],
   "source": [
    "predictions = model.predict(testX, batch_size = 64)\n",
    "\n",
    "\n",
    "print(classification_report(testY.argmax(axis = 1), predictions.argmax(axis = 1),\n",
    "                           target_names = le.classes_))  # le.classes是['not_smiling', 'smiling']组成的数组\n",
    "\n",
    "model.save(model_dir)"
   ]
  },
  {
   "cell_type": "code",
   "execution_count": 18,
   "metadata": {},
   "outputs": [
    {
     "data": {
      "image/png": "[encoded data removed]",
      "text/plain": [
       "<Figure size 432x288 with 1 Axes>"
      ]
     },
     "metadata": {},
     "output_type": "display_data"
    }
   ],
   "source": [
    "plt.style.use(\"ggplot\")\n",
    "plt.figure()\n",
    "plt.plot(np.arange(0, 15), H.history[\"loss\"], label = \"train_loss\")\n",
    "plt.plot(np.arange(0, 15), H.history[\"val_loss\"], label = \"val_loss\")\n",
    "plt.plot(np.arange(0, 15), H.history[\"acc\"], label = \"acc\")\n",
    "plt.plot(np.arange(0, 15), H.history[\"val_acc\"], label = \"val_acc\")\n",
    "plt.title(\"Training Loss and Accuracy\")\n",
    "plt.xlabel(\"Epoch\")le\n",
    "plt.ylabel(\"Loss/Accuracy\")\n",
    "plt.legend()\n",
    "plt.show()"
   ]
  },
  {
   "cell_type": "markdown",
   "metadata": {},
   "source": [
    "### 进行实时显示"
   ]
  },
  {
   "cell_type": "code",
   "execution_count": 10,
   "metadata": {},
   "outputs": [],
   "source": [
    "from keras.preprocessing.image import img_to_array\n",
    "from keras.models import load_model\n",
    "import numpy as np\n",
    "import imutils\n",
    "import cv2\n",
    "import os"
   ]
  },
  {
   "cell_type": "code",
   "execution_count": 14,
   "metadata": {},
   "outputs": [],
   "source": [
    "haarcascade_face_dir = os.path.abspath(r\"./model/haarcascade_frontalface_default.xml\")\n",
    "model_dir = os.path.abspath(r\"./model/lenet.hdf5\")\n",
    "video_dir = os.path.abspath(r\"./src.mp4\")"
   ]
  },
  {
   "cell_type": "code",
   "execution_count": 15,
   "metadata": {},
   "outputs": [],
   "source": [
    "detector = cv2.CascadeClassifier(haarcascade_face_dir)\n",
    "model = load_model(model_dir)\n",
    "camera = cv2.VideoCapture(video_dir)"
   ]
  },
  {
   "cell_type": "code",
   "execution_count": 16,
   "metadata": {},
   "outputs": [
    {
     "ename": "error",
     "evalue": "OpenCV(4.1.0) C:\\projects\\opencv-python\\opencv\\modules\\objdetect\\src\\cascadedetect.cpp:1658: error: (-215:Assertion failed) !empty() in function 'cv::CascadeClassifier::detectMultiScale'\n",
     "output_type": "error",
     "traceback": [
      "\u001b[1;31m---------------------------------------------------------------------------\u001b[0m",
      "\u001b[1;31merror\u001b[0m                                     Traceback (most recent call last)",
      "\u001b[1;32m<ipython-input-16-768a2be5ac2f>\u001b[0m in \u001b[0;36m<module>\u001b[1;34m()\u001b[0m\n\u001b[0;32m     12\u001b[0m      \u001b[1;31m# scaleFactor用来控制图像金字塔， minNeighbors表示的最小特征存在数量，比如等于5表示的是有5个特征的时候才算这个人脸匹配成功\u001b[0m\u001b[1;33m\u001b[0m\u001b[1;33m\u001b[0m\u001b[0m\n\u001b[0;32m     13\u001b[0m     rects = detector.detectMultiScale(gray, scaleFactor=1.1, minNeighbors=5, minSize=(30, 30),\n\u001b[1;32m---> 14\u001b[1;33m                                      flags=cv2.CASCADE_SCALE_IMAGE)\n\u001b[0m\u001b[0;32m     15\u001b[0m \u001b[1;33m\u001b[0m\u001b[0m\n\u001b[0;32m     16\u001b[0m \u001b[1;33m\u001b[0m\u001b[0m\n",
      "\u001b[1;31merror\u001b[0m: OpenCV(4.1.0) C:\\projects\\opencv-python\\opencv\\modules\\objdetect\\src\\cascadedetect.cpp:1658: error: (-215:Assertion failed) !empty() in function 'cv::CascadeClassifier::detectMultiScale'\n"
     ]
    }
   ],
   "source": [
    "while True:\n",
    "    (grabbed, frame) = camera.read()\n",
    "\n",
    "    \n",
    "# grabbed和frame是read的两个返回值，grabbed是布尔类型的返回值，如果读取帧是正确的返回True，当文件读到结尾的时候返回False\n",
    "# frame是每一帧的图像，是一个三维矩阵   \n",
    "\n",
    "    frame = imutils.resize(frame, width = 300) #把图像宽度重新指定为300像素\n",
    "    gray = cv2.cvtColor(frame, cv2.COLOR_BGR2GRAY) #因为模型训练是对灰度图像处理，所以这里要转换成灰度图像\n",
    "    frameClone = frame.copy()    #重新克隆frame，用于接下来绘制边界框\n",
    "\n",
    "     # scaleFactor用来控制图像金字塔， minNeighbors表示的最小特征存在数量，比如等于5表示的是有5个特征的时候才算这个人脸匹配成功\n",
    "    rects = detector.detectMultiScale(gray, scaleFactor=1.1, minNeighbors=5, minSize=(30, 30),\n",
    "                                     flags=cv2.CASCADE_SCALE_IMAGE)\n",
    "\n",
    " \n",
    " # .detectMultiScale方法返回一个四元组列表，来表示视频流的脸部矩形框\n",
    " # 刚开始的两个变量表示的是候选框x和y的位置，接下来两个变量的值表示的是候选框的宽度和高度  \n",
    "    for (fX, fY, fW, fH) in rects:\n",
    "        roi = gray[fY:fY + fH, fX:fX + fW]  # 提取灰度图像中的候选区域\n",
    "        roi = cv2.resize(roi, (28, 28))   # 将候选区域变成28*28像素，接下来的操作都是便于roi用于CNN学习\n",
    "        roi = roi.astype(\"float\") / 255.0\n",
    "        roi = img_to_array(roi)\n",
    "        roi = np.expand_dims(roi, axis = 0)   # 扩展数组，在最开始的位置新加一个维度，便于Keras识别\n",
    "        \n",
    "        (notSmiling, smiling) = model.predict(roi)[0]    # 看概率，哪个概率大，就说明是笑还是不笑\n",
    "        label = \"Smiling\" if smiling > notSmiling else \"Not Smiling\"\n",
    "        \n",
    "        cv2.putText(frameClone, label, (fX, fY - 10), cv2.FONT_HERSHEY_SIMPLEX, \n",
    "                   0.45, (0, 0, 255), 2)\n",
    "        cv2.rectangle(frameClone, (fX, fY), (fX + fW, fY + fH),\n",
    "                     (0, 0, 255), 2)\n",
    "        \n",
    "        \n",
    "    cv2.imshow(\"Face\", frameClone)  # 展示包含label的微笑判断\n",
    "    \n",
    "    if cv2.waitKey(1) & 0xFF == ord(\"q\"):  # 如果 ‘q’被按下了，停止循环\n",
    "        break\n",
    "        \n",
    "camera.release()  # 清空相机\n",
    "cv2.destroyAllWindows()  # 关闭所有window"
   ]
  }
 ],
 "metadata": {
  "kernelspec": {
   "display_name": "Python 3",
   "language": "python",
   "name": "python3"
  },
  "language_info": {
   "codemirror_mode": {
    "name": "ipython",
    "version": 3
   },
   "file_extension": ".py",
   "mimetype": "text/x-python",
   "name": "python",
   "nbconvert_exporter": "python",
   "pygments_lexer": "ipython3",
   "version": "3.6.6"
  }
 },
 "nbformat": 4,
 "nbformat_minor": 2
}
